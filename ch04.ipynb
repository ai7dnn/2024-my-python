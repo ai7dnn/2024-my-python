{
 "cells": [
  {
   "cell_type": "code",
   "execution_count": 1,
   "metadata": {},
   "outputs": [
    {
     "data": {
      "text/plain": [
       "['c:\\\\Users\\\\109-1\\\\AppData\\\\Local\\\\Programs\\\\Python\\\\Python312',\n",
       " 'c:\\\\Users\\\\109-1\\\\AppData\\\\Local\\\\Programs\\\\Python\\\\Python312\\\\Lib\\\\site-packages']"
      ]
     },
     "execution_count": 1,
     "metadata": {},
     "output_type": "execute_result"
    }
   ],
   "source": [
    "import site\n",
    "site.getsitepackages()"
   ]
  },
  {
   "cell_type": "markdown",
   "metadata": {},
   "source": [
    "## code 04-02"
   ]
  },
  {
   "cell_type": "code",
   "execution_count": 20,
   "metadata": {},
   "outputs": [
    {
     "name": "stdout",
     "output_type": "stream",
     "text": [
      "축하합니다! 장학금 지급 대상자입니다.\n",
      "당신의 1학기 평균평점 3.90입니다.\n"
     ]
    }
   ],
   "source": [
    "#%% 04-02gradeif.py\t평균평점 3.8이상이면 장학금 지급 대상자\n",
    "grade = float(input('1학기 평균평점은? '))\n",
    "if 3.8 <= grade:\n",
    "    print('축하합니다! 장학금 지급 대상자입니다.')\n",
    "print('당신의 1학기 평균평점 %.2f입니다.' % (grade))"
   ]
  },
  {
   "cell_type": "markdown",
   "metadata": {},
   "source": [
    "## code 04-03"
   ]
  },
  {
   "cell_type": "code",
   "execution_count": 21,
   "metadata": {},
   "outputs": [
    {
     "name": "stdout",
     "output_type": "stream",
     "text": [
      "지금 시각: 11시 10분, 조조할인 안됩니다. \n"
     ]
    }
   ],
   "source": [
    "#%% 04-03earlybirddiscount.py\t영화 조조 할인\t판정\n",
    "from time import localtime\n",
    "hour = localtime().tm_hour\n",
    "mnt = localtime().tm_min\n",
    "\n",
    "if hour < 10:\n",
    "    print('지금 시각: %d시 %d분, 조조할인 됩니다. ' % (hour, mnt))\n",
    "else: \n",
    "    print('지금 시각: %d시 %d분, 조조할인 안됩니다. ' % (hour, mnt))"
   ]
  },
  {
   "cell_type": "code",
   "execution_count": 24,
   "metadata": {},
   "outputs": [
    {
     "name": "stdout",
     "output_type": "stream",
     "text": [
      "현재 시간: 11시 11분\n"
     ]
    }
   ],
   "source": [
    "from datetime import datetime\n",
    "currunt = datetime.now()\n",
    "hour = currunt.hour\n",
    "mnt = currunt.minute\n",
    "print(f'현재 시간: {hour}시 {mnt}분')"
   ]
  },
  {
   "cell_type": "markdown",
   "metadata": {},
   "source": [
    "## code 04-04"
   ]
  },
  {
   "cell_type": "code",
   "execution_count": 7,
   "metadata": {},
   "outputs": [
    {
     "name": "stdout",
     "output_type": "stream",
     "text": [
      "3은 홀수이다.\n"
     ]
    }
   ],
   "source": [
    "#%% 04-04oddoreven.py\t정수의 홀수와 짝수 판정\n",
    "n = int(input('정수 입력 >> '))\n",
    "#n = 10\n",
    "if n%2 == 0: #2로 나누어 떨어지는지 검사, 결국 True이면 짝수 False이면 홀수\n",
    "    print('%d은 짝수이다.' % n)\n",
    "else: \n",
    "    print('%d은 홀수이다.' % n)"
   ]
  },
  {
   "cell_type": "markdown",
   "metadata": {},
   "source": [
    "## code 04-05"
   ]
  },
  {
   "cell_type": "code",
   "execution_count": 38,
   "metadata": {},
   "outputs": [
    {
     "name": "stdout",
     "output_type": "stream",
     "text": [
      "미세먼지 농도: 30.00, 등급: 좋음\n"
     ]
    }
   ],
   "source": [
    "#%% 04-05dustforecast.py\t미세 먼지 예보\n",
    "PM = float(input('미세먼지(10마이크로그램)의 농도는 ? '))\n",
    "#PM = 90 #particulate matter: 미세먼지\n",
    "if 151 <= PM:\n",
    "    print('미세먼지 농도: {:.2f}, 등급: {}'.format(PM, '매우 나쁨'))\n",
    "elif 81 <= PM:\n",
    "    print('미세먼지 농도: {:.2f}, 등급: {}'.format(PM, '나쁨'))\n",
    "elif 31 <= PM:\n",
    "    print('미세먼지 농도: {:.2f}, 등급: {}'.format(PM, '보통'))\n",
    "else:\n",
    "    print('미세먼지 농도: {:.2f}, 등급: {}'.format(PM, '좋음'))"
   ]
  },
  {
   "cell_type": "markdown",
   "metadata": {},
   "source": [
    "## code 04-07"
   ]
  },
  {
   "cell_type": "code",
   "execution_count": 37,
   "metadata": {},
   "outputs": [
    {
     "name": "stdout",
     "output_type": "stream",
     "text": [
      "1.1 1.1\n",
      "2.5 3.6\n",
      "3.6 7.2\n",
      "4.2 11.4\n",
      "5.4 16.8\n",
      "합: 16.80, 평균: 3.36\n"
     ]
    }
   ],
   "source": [
    "#%% 04-07numseq.py\t수의 나열에서 합과 평균 구하기 \n",
    "sum = 0\n",
    "for i in 1.1, 2.5, 3.6, 4.2, 5.4:\n",
    "    sum += i\n",
    "    print(i, sum)\n",
    "else:\n",
    "    print('합: %.2f, 평균: %.2f' % (sum, sum / 5))"
   ]
  },
  {
   "cell_type": "markdown",
   "metadata": {},
   "source": [
    "## code 04-09"
   ]
  },
  {
   "cell_type": "code",
   "execution_count": 34,
   "metadata": {},
   "outputs": [
    {
     "name": "stdout",
     "output_type": "stream",
     "text": [
      "두 자릿수 정수에서 최소 한 자리수가 6인 정수 찾기: \n",
      "======================= 결과 =======================\n",
      "16 26 36 46 56 60 61 62 63 64 65 66 67 68 69 76 86 96 "
     ]
    }
   ],
   "source": [
    "#%% 04-09findnum.py\t지정된 최소 한 자릿수가 포함된 두 자리 정수 찾기  \n",
    "n = input(\"10진수의 한 자릿수 입력 >> \")\n",
    "print('두 자릿수 정수에서 최소 한 자리수가 %s인 정수 찾기: ' % n)\n",
    "print(' 결과 '.center(50, '='))\n",
    "\n",
    "for i in range(10, 100):\n",
    "    snum = str(i)\n",
    "    if n in snum:\n",
    "        print(i, end= ' ')"
   ]
  },
  {
   "cell_type": "markdown",
   "metadata": {},
   "source": [
    "## code 04-10"
   ]
  },
  {
   "cell_type": "code",
   "execution_count": 33,
   "metadata": {},
   "outputs": [
    {
     "name": "stdout",
     "output_type": "stream",
     "text": [
      "들어가세요. 1명\n",
      "들어가세요. 2명\n",
      "들어가세요. 3명\n",
      "들어가세요. 4명\n",
      "4명 모두 찼습니다. 다음 번에 이용하세요.\n"
     ]
    }
   ],
   "source": [
    "#%% 04-10checkrides.py 어린이를 위한 놀이기구 탑승 검사\n",
    "MAXNUM = 4\n",
    "MAXHEIGHT = 130\n",
    "\n",
    "more = True\n",
    "cnt = 0\n",
    "while more:\n",
    "    height = float(input(\"키는 ? \"))\n",
    "    if height < MAXHEIGHT:\n",
    "        cnt += 1\n",
    "        print('들어가세요.', '%d명' % cnt)\n",
    "    else: \n",
    "        print('커서 못 들어갑니다.')\n",
    "    if cnt == MAXNUM:\n",
    "        more = False\n",
    "else: \n",
    "    print('%d명 모두 찼습니다. 다음 번에 이용하세요.' % cnt)"
   ]
  },
  {
   "cell_type": "markdown",
   "metadata": {},
   "source": [
    "## code 04-12"
   ]
  },
  {
   "cell_type": "code",
   "execution_count": 32,
   "metadata": {},
   "outputs": [
    {
     "name": "stdout",
     "output_type": "stream",
     "text": [
      "2 * 1 =  2  2 * 2 =  4  2 * 3 =  6  2 * 4 =  8  2 * 5 = 10  2 * 6 = 12  2 * 7 = 14  2 * 8 = 16  2 * 9 = 18  \n",
      "3 * 1 =  3  3 * 2 =  6  3 * 3 =  9  3 * 4 = 12  3 * 5 = 15  3 * 6 = 18  3 * 7 = 21  3 * 8 = 24  3 * 9 = 27  \n",
      "4 * 1 =  4  4 * 2 =  8  4 * 3 = 12  4 * 4 = 16  4 * 5 = 20  4 * 6 = 24  4 * 7 = 28  4 * 8 = 32  4 * 9 = 36  \n",
      "5 * 1 =  5  5 * 2 = 10  5 * 3 = 15  5 * 4 = 20  5 * 5 = 25  5 * 6 = 30  5 * 7 = 35  5 * 8 = 40  5 * 9 = 45  \n",
      "6 * 1 =  6  6 * 2 = 12  6 * 3 = 18  6 * 4 = 24  6 * 5 = 30  6 * 6 = 36  6 * 7 = 42  6 * 8 = 48  6 * 9 = 54  \n",
      "7 * 1 =  7  7 * 2 = 14  7 * 3 = 21  7 * 4 = 28  7 * 5 = 35  7 * 6 = 42  7 * 7 = 49  7 * 8 = 56  7 * 9 = 63  \n",
      "8 * 1 =  8  8 * 2 = 16  8 * 3 = 24  8 * 4 = 32  8 * 5 = 40  8 * 6 = 48  8 * 7 = 56  8 * 8 = 64  8 * 9 = 72  \n",
      "9 * 1 =  9  9 * 2 = 18  9 * 3 = 27  9 * 4 = 36  9 * 5 = 45  9 * 6 = 54  9 * 7 = 63  9 * 8 = 72  9 * 9 = 81  \n"
     ]
    }
   ],
   "source": [
    "#%% 04-12multiplicationtable.py\t전형적인 구구단 출력\n",
    "for i in range(2, 10):\n",
    "    for j in range(1, 10):\n",
    "        print('%d * %d = %2d' % (i, j, i * j), end= '  ')\n",
    "    print()"
   ]
  },
  {
   "cell_type": "markdown",
   "metadata": {},
   "source": [
    "## code 04-13"
   ]
  },
  {
   "cell_type": "code",
   "execution_count": 54,
   "metadata": {},
   "outputs": [
    {
     "name": "stdout",
     "output_type": "stream",
     "text": [
      "======== 모의로또 당첨번호 =========\n",
      "(11, 17, 28, 30, 33, 45)\n",
      "\n",
      "---------- 내 번호 확인 -----------\n",
      "35 X  18 X  39 X  17 O  22 X  1 X  \n",
      "1 개 맞음\n"
     ]
    }
   ],
   "source": [
    "#%% 04-13lotto.py\t1에서 45까지의 6개 수를 맞히는 로또 \n",
    "winnumber = 11, 17, 28, 30, 33, 45\n",
    "print(' 모의로또 당첨번호 '.center(28, '='))\n",
    "print(winnumber)\n",
    "print()\n",
    "print(' 내 번호 확인 '.center(30, '-'))\n",
    "cnt = 0\n",
    "import random\n",
    "for i in range(6):\n",
    "    n = random.randint(1, 45)\n",
    "    if n in winnumber:\n",
    "        print(n, 'O ', end = ' ')\n",
    "        cnt += 1\n",
    "    else: \n",
    "        print(n, 'X ', end = ' ')\n",
    "\n",
    "print()\n",
    "print(cnt, '개 맞음')"
   ]
  },
  {
   "cell_type": "markdown",
   "metadata": {},
   "source": [
    "## code 04-14"
   ]
  },
  {
   "cell_type": "code",
   "execution_count": 55,
   "metadata": {},
   "outputs": [
    {
     "name": "stdout",
     "output_type": "stream",
     "text": [
      "종료\n"
     ]
    }
   ],
   "source": [
    "#%% 04-14menubreak.py\t1을 입력하면 계속하고 0을 입력하면 반복 종료\n",
    "while True:\n",
    "    menu = input('[0]종료  [1]계속 ? ')\n",
    "    if menu == '0':\n",
    "        break\n",
    "print('종료')"
   ]
  },
  {
   "cell_type": "markdown",
   "metadata": {},
   "source": [
    "## code 04-15"
   ]
  },
  {
   "cell_type": "code",
   "execution_count": 62,
   "metadata": {},
   "outputs": [
    {
     "name": "stdout",
     "output_type": "stream",
     "text": [
      "0, 7 나올 때까지 계속!\n",
      "6, 7 나올 때까지 계속!\n",
      "4, 7 나올 때까지 계속!\n",
      "1, 7 나올 때까지 계속!\n",
      "1, 7 나올 때까지 계속!\n",
      "드디어 7!\n"
     ]
    }
   ],
   "source": [
    "#%% 04-15break7.py 0에서 9까지의 수 중에서 7이 나오면 반복 종료\n",
    "from random import randint\n",
    "\n",
    "LUCKY = 7\n",
    "while True:\n",
    "    n = randint(0, 9)\n",
    "    if n == LUCKY:\n",
    "        print('드디어 %d!' % n)\n",
    "        break\n",
    "    else:\n",
    "        print('%d, %d 나올 때까지 계속!' % (n, LUCKY))\n",
    "else:\n",
    "    print('여기는 실행 안 됩니다.')"
   ]
  },
  {
   "cell_type": "markdown",
   "metadata": {},
   "source": [
    "## code 04-16"
   ]
  },
  {
   "cell_type": "code",
   "execution_count": 63,
   "metadata": {},
   "outputs": [
    {
     "name": "stdout",
     "output_type": "stream",
     "text": [
      "잘못 입력했어요!\n",
      "잘못 입력했어요!\n",
      "잘못 입력했어요!\n",
      "입력: monday, 철자가 맞습니다.\n",
      "****** 종료 *****\n"
     ]
    }
   ],
   "source": [
    "#%% 04-16dayspelltest.py\t월 화 수 중의 영어 철자 하나 검사\n",
    "days = ['monday', 'tuesday', 'wednesday']\n",
    "\n",
    "while True:\n",
    "    user = input('월 화 수 중의 하나 영어 단어 입력 >> ')\n",
    "    if user not in days:\n",
    "        print('잘못 입력했어요!')\n",
    "        continue\n",
    "    print('입력: %s, 철자가 맞습니다.' % user)\n",
    "    break\n",
    "\n",
    "print(' 종료 '.center(15, '*'))"
   ]
  },
  {
   "cell_type": "markdown",
   "metadata": {},
   "source": [
    "### Lab-04-01"
   ]
  },
  {
   "cell_type": "code",
   "execution_count": 66,
   "metadata": {},
   "outputs": [
    {
     "name": "stdout",
     "output_type": "stream",
     "text": [
      "축하합니다. 7: 정답입니다.\n",
      "************* 종료 *************\n"
     ]
    }
   ],
   "source": [
    "#%% 프로젝트 Lab1 04-pl01-numguess.py 1에서 10 사이의 수 맞추기 \n",
    "import random\n",
    "answer = random.randint(1, 10)\n",
    "\n",
    "indata = int(input('1에서 10사이의 수를 맞추세요 >> '))\n",
    "while True:\n",
    "    if indata == answer:\n",
    "        print('축하합니다. {}: 정답입니다.'.format(indata))\n",
    "        break;\n",
    "    elif indata < answer:   \n",
    "        str = '{}보다 더 큰 수로 다시 입력 >> '.format(indata)\n",
    "    else:\n",
    "        str = '{}보다 더 작은 수로 다시 입력 >> '.format(indata)\n",
    "    indata = int(input(str))\n",
    "\n",
    "print(\" 종료 \".center(30, '*'))"
   ]
  },
  {
   "cell_type": "markdown",
   "metadata": {},
   "source": [
    "### Lab-04-02"
   ]
  },
  {
   "cell_type": "code",
   "execution_count": 68,
   "metadata": {},
   "outputs": [
    {
     "name": "stdout",
     "output_type": "stream",
     "text": [
      "환영합니다. 마실 것 선택하세요\n",
      "\n",
      "카페라테 5개 주문\n",
      "현재 주문 가격: 12500원\n",
      "\n",
      "\n",
      "아메리카노 3개 주문\n",
      "현재 주문 가격: 18500원\n",
      "\n",
      "\n",
      "******주문종료 *******\n",
      "총 주문 가격: 18500원\n",
      "======= 안녕! ========\n"
     ]
    }
   ],
   "source": [
    "#%% 프로젝트 Lab2 04-pl02-pricecoffeeorder.py 커피 주문받아 주문 가격 표시 난이도: 실전\n",
    "menu = '''Coffee menu!\n",
    "    1. 아메리카노    2000\n",
    "    2. 카페라떼      2500\n",
    "    3. 카푸치노      3000\n",
    "    4. 카라멜마키아또 4000\n",
    "    0. 주문종료 \n",
    "종류 ? ''' \n",
    "            \n",
    "print('환영합니다. 마실 것 선택하세요')\n",
    "total = 0\n",
    "while True:\n",
    "    order = int(input(menu))\n",
    "    if order == 0:\n",
    "        print()\n",
    "        print('주문종료 '.center(18, '*'))\n",
    "        break\n",
    "    else: \n",
    "        cnt = int(input('수량 ? '))\n",
    "        if order == 1:\n",
    "            total += cnt * 2000 \n",
    "            print('\\n%s %d개 주문' % ('아메리카노', cnt))\n",
    "        elif order == 2:\n",
    "            total += cnt * 2500 \n",
    "            print('\\n%s %d개 주문' % ('카페라테', cnt))\n",
    "        elif order == 3:\n",
    "            total += cnt * 3000 \n",
    "            print('\\n%s %d개 주문' % ('카푸치노', cnt))\n",
    "        elif order == 4:\n",
    "            total += cnt * 4000 \n",
    "            print('\\n%s %d개 주문' % ('카라멜마키아또', cnt))\n",
    "        else:\n",
    "            print('모르겠어요.')\n",
    "        print('현재 주문 가격: %d원' % total)\n",
    "        print()\n",
    "        \n",
    "print('총 주문 가격: %d원' % total)\n",
    "print(' 안녕! '.center(20, '='))\n"
   ]
  },
  {
   "cell_type": "markdown",
   "metadata": {},
   "source": [
    "### Lab-04-03"
   ]
  },
  {
   "cell_type": "code",
   "execution_count": 67,
   "metadata": {},
   "outputs": [
    {
     "name": "stdout",
     "output_type": "stream",
     "text": [
      "\n",
      " 일 월 화 수 목 금 토 \n",
      "\n",
      "    1  2  3  4  5  6 \n",
      " 7  8  9 10 11 12 13 \n",
      "14 15 16 17 18 19 20 \n",
      "21 22 23 24 25 26 27 \n",
      "28 29 30 31 \n"
     ]
    }
   ],
   "source": [
    "#%% 프로젝트 Lab3 04-pl03-printonemonth.py\t 1개월 달력 출력 난이도: 실전\n",
    "dates = int(input('한 달 최대 일수를 입력 >> '))\n",
    "day = int(input('첫 날 1일의 시작 요일을 입력(0=일, 1=월, ... 6=토) >> '))\n",
    "#dates = 31\n",
    "#day = 0\n",
    "\n",
    "day %= 7 #7이 넘어가면 재설정\n",
    "#요일 출력\n",
    "print('\\n', end= ' ')       \n",
    "for i in '일월화수목금토':\n",
    "    print('%s' % i, end= ' ')\n",
    "else: \n",
    "    print('\\n')       \n",
    "\n",
    "cnt = 0\n",
    "#빈날짜 출력\n",
    "#for i in range(day):\n",
    "#    print('%2s' % ' ', end= ' ')\n",
    "#    cnt += 1\n",
    "\n",
    "#빈날짜 출력\n",
    "if day != 0: \n",
    "    print('   ' * day, end = '')\n",
    "    cnt += day\n",
    "\n",
    "#1일부터 말일까지 출력\n",
    "for i in range(1, dates + 1):\n",
    "    print('%2d' % i, end= ' ')\n",
    "    cnt += 1\n",
    "    if cnt % 7 == 0: #일주가 모두 출력되면 다음부터는 다음 줄에서 출력\n",
    "        print()\n",
    "else: \n",
    "    print()    \n"
   ]
  },
  {
   "cell_type": "markdown",
   "metadata": {},
   "source": [
    "## 학습내용점검"
   ]
  },
  {
   "cell_type": "markdown",
   "metadata": {},
   "source": [
    "#### 06-1"
   ]
  },
  {
   "cell_type": "code",
   "execution_count": 64,
   "metadata": {},
   "outputs": [
    {
     "name": "stdout",
     "output_type": "stream",
     "text": [
      "0 3 6 9 \n"
     ]
    }
   ],
   "source": [
    "for n in range(10):\n",
    "    if n%3 == 0:\n",
    "        print(n, end=' ')\n",
    "print()\n"
   ]
  },
  {
   "cell_type": "markdown",
   "metadata": {},
   "source": [
    "#### 06-2"
   ]
  },
  {
   "cell_type": "code",
   "execution_count": 65,
   "metadata": {},
   "outputs": [
    {
     "name": "stdout",
     "output_type": "stream",
     "text": [
      "12 16 \n"
     ]
    }
   ],
   "source": [
    "for n in range(10, 20):\n",
    "    if n%4 == 0:\n",
    "        print(n, end=' ')\n",
    "print()"
   ]
  },
  {
   "cell_type": "code",
   "execution_count": null,
   "metadata": {},
   "outputs": [],
   "source": []
  }
 ],
 "metadata": {
  "kernelspec": {
   "display_name": "Python 3",
   "language": "python",
   "name": "python3"
  },
  "language_info": {
   "codemirror_mode": {
    "name": "ipython",
    "version": 3
   },
   "file_extension": ".py",
   "mimetype": "text/x-python",
   "name": "python",
   "nbconvert_exporter": "python",
   "pygments_lexer": "ipython3",
   "version": "3.12.1"
  }
 },
 "nbformat": 4,
 "nbformat_minor": 2
}
